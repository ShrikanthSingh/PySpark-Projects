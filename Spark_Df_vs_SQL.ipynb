{
 "cells": [
  {
   "cell_type": "code",
   "execution_count": 3,
   "metadata": {},
   "outputs": [],
   "source": [
    "#https://naomi-fridman.medium.com/install-pyspark-to-run-on-jupyter-notebook-on-windows-4ec2009de21f\n",
    "import findspark"
   ]
  },
  {
   "cell_type": "code",
   "execution_count": 4,
   "metadata": {},
   "outputs": [],
   "source": [
    "findspark.init()\n",
    "findspark.find()\n",
    "import pyspark"
   ]
  },
  {
   "cell_type": "markdown",
   "metadata": {},
   "source": [
    "#### Examples to test working of spark"
   ]
  },
  {
   "cell_type": "code",
   "execution_count": 3,
   "metadata": {},
   "outputs": [
    {
     "data": {
      "text/plain": [
       "[1, 4, 9, 16]"
      ]
     },
     "execution_count": 3,
     "metadata": {},
     "output_type": "execute_result"
    }
   ],
   "source": [
    "from pyspark import SparkContext, SparkConf\n",
    "from pyspark.sql import SparkSession\n",
    "conf = pyspark.SparkConf().setAppName('appName').setMaster('local')\n",
    "sc = pyspark.SparkContext(conf=conf)\n",
    "spark = SparkSession(sc)\n",
    "nums = sc.parallelize([1,2,3,4])\n",
    "nums.map(lambda x: x*x).collect()"
   ]
  },
  {
   "cell_type": "code",
   "execution_count": 3,
   "metadata": {},
   "outputs": [
    {
     "data": {
      "text/plain": [
       "'computers'"
      ]
     },
     "execution_count": 3,
     "metadata": {},
     "output_type": "execute_result"
    }
   ],
   "source": [
    "from pyspark import SparkContext\n",
    "import numpy as np\n",
    "sc=SparkContext(master=\"local[4]\")\n",
    "words = 'These are some of the best Macintosh computers ever'.split(' ')\n",
    "wordRDD = sc.parallelize(words)\n",
    "wordRDD.reduce(lambda w,v: w if len(w)>len(v) else v)"
   ]
  },
  {
   "cell_type": "code",
   "execution_count": 3,
   "metadata": {},
   "outputs": [
    {
     "name": "stdout",
     "output_type": "stream",
     "text": [
      "root\n",
      " |-- name: string (nullable = true)\n",
      " |-- age: long (nullable = true)\n",
      "\n",
      "+-----+---+\n",
      "| name|age|\n",
      "+-----+---+\n",
      "| John| 19|\n",
      "|Smith| 29|\n",
      "| Adam| 35|\n",
      "|Henry| 50|\n",
      "+-----+---+\n",
      "\n"
     ]
    }
   ],
   "source": [
    "from pyspark.sql import Row\n",
    "from pyspark.sql import SQLContext\n",
    "from pyspark import SparkContext\n",
    "sc =SparkContext()\n",
    "sqlContext = SQLContext(sc)\n",
    "list_p = [('John',19),('Smith',29),('Adam',35),('Henry',50)]\n",
    "rdd = sc.parallelize(list_p)\n",
    "ppl = rdd.map(lambda x: Row(name=x[0], age=int(x[1])))\n",
    "DF_ppl = sqlContext.createDataFrame(ppl)\n",
    "DF_ppl.printSchema()\n",
    "DF_ppl.show()"
   ]
  },
  {
   "cell_type": "code",
   "execution_count": 5,
   "metadata": {},
   "outputs": [],
   "source": [
    "from pyspark.sql import SparkSession"
   ]
  },
  {
   "cell_type": "code",
   "execution_count": 6,
   "metadata": {},
   "outputs": [],
   "source": [
    "spark = SparkSession \\\n",
    "        .builder \\\n",
    "        .appName('First spark session') \\\n",
    "        .getOrCreate()"
   ]
  },
  {
   "cell_type": "code",
   "execution_count": 7,
   "metadata": {},
   "outputs": [
    {
     "data": {
      "text/plain": [
       "[('spark.driver.port', '54891'),\n",
       " ('spark.driver.host', '192.168.1.8'),\n",
       " ('spark.rdd.compress', 'True'),\n",
       " ('spark.app.name', 'First spark session'),\n",
       " ('spark.serializer.objectStreamReset', '100'),\n",
       " ('spark.master', 'local[*]'),\n",
       " ('spark.submit.pyFiles', ''),\n",
       " ('spark.executor.id', 'driver'),\n",
       " ('spark.submit.deployMode', 'client'),\n",
       " ('spark.app.id', 'local-1603841262293'),\n",
       " ('spark.ui.showConsoleProgress', 'true')]"
      ]
     },
     "execution_count": 7,
     "metadata": {},
     "output_type": "execute_result"
    }
   ],
   "source": [
    "spark.sparkContext.getConf().getAll()"
   ]
  },
  {
   "cell_type": "code",
   "execution_count": 62,
   "metadata": {},
   "outputs": [],
   "source": [
    "usr_log = spark.read.json(r'C:\\Users\\Shrikanth Singh\\Desktop\\Conrad Notebooks\\Py-Spark Practice\\Sparkify-Project-master\\sparkify_log_small.json')"
   ]
  },
  {
   "cell_type": "code",
   "execution_count": 63,
   "metadata": {},
   "outputs": [
    {
     "name": "stdout",
     "output_type": "stream",
     "text": [
      "root\n",
      " |-- artist: string (nullable = true)\n",
      " |-- auth: string (nullable = true)\n",
      " |-- firstName: string (nullable = true)\n",
      " |-- gender: string (nullable = true)\n",
      " |-- itemInSession: long (nullable = true)\n",
      " |-- lastName: string (nullable = true)\n",
      " |-- length: double (nullable = true)\n",
      " |-- level: string (nullable = true)\n",
      " |-- location: string (nullable = true)\n",
      " |-- method: string (nullable = true)\n",
      " |-- page: string (nullable = true)\n",
      " |-- registration: long (nullable = true)\n",
      " |-- sessionId: long (nullable = true)\n",
      " |-- song: string (nullable = true)\n",
      " |-- status: long (nullable = true)\n",
      " |-- ts: long (nullable = true)\n",
      " |-- userAgent: string (nullable = true)\n",
      " |-- userId: string (nullable = true)\n",
      "\n"
     ]
    }
   ],
   "source": [
    "usr_log.printSchema()"
   ]
  },
  {
   "cell_type": "code",
   "execution_count": 64,
   "metadata": {},
   "outputs": [
    {
     "name": "stdout",
     "output_type": "stream",
     "text": [
      "+-------------+---------+---------+------+-------------+--------+---------+-----+--------------------+------+--------+-------------+---------+--------------------+------+-------------+--------------------+------+\n",
      "|       artist|     auth|firstName|gender|itemInSession|lastName|   length|level|            location|method|    page| registration|sessionId|                song|status|           ts|           userAgent|userId|\n",
      "+-------------+---------+---------+------+-------------+--------+---------+-----+--------------------+------+--------+-------------+---------+--------------------+------+-------------+--------------------+------+\n",
      "|Showaddywaddy|Logged In|  Kenneth|     M|          112|Matthews|232.93342| paid|Charlotte-Concord...|   PUT|NextSong|1509380319284|     5132|Christmas Tears W...|   200|1513720872284|\"Mozilla/5.0 (Win...|  1046|\n",
      "|   Lily Allen|Logged In|Elizabeth|     F|            7|   Chase|195.23873| free|Shreveport-Bossie...|   PUT|NextSong|1512718541284|     5027|       Cheryl Tweedy|   200|1513720878284|\"Mozilla/5.0 (Win...|  1000|\n",
      "+-------------+---------+---------+------+-------------+--------+---------+-----+--------------------+------+--------+-------------+---------+--------------------+------+-------------+--------------------+------+\n",
      "only showing top 2 rows\n",
      "\n"
     ]
    }
   ],
   "source": [
    "usr_log.show(n=2)"
   ]
  },
  {
   "cell_type": "code",
   "execution_count": 65,
   "metadata": {},
   "outputs": [],
   "source": [
    "out_path = 'sparkify_log_small.csv'\n",
    "#usr_log.write.save(out_path, format='csv', header=True)"
   ]
  },
  {
   "cell_type": "code",
   "execution_count": 66,
   "metadata": {},
   "outputs": [],
   "source": [
    "usr_log_csv = spark.read.csv(out_path)"
   ]
  },
  {
   "cell_type": "code",
   "execution_count": 67,
   "metadata": {},
   "outputs": [
    {
     "name": "stdout",
     "output_type": "stream",
     "text": [
      "+-------+------------------+\n",
      "|summary|         sessionId|\n",
      "+-------+------------------+\n",
      "|  count|             10000|\n",
      "|   mean|         4436.7511|\n",
      "| stddev|2043.1281541827561|\n",
      "|    min|                 9|\n",
      "|    max|              7144|\n",
      "+-------+------------------+\n",
      "\n"
     ]
    }
   ],
   "source": [
    "usr_log.describe('sessionId').show()"
   ]
  },
  {
   "cell_type": "code",
   "execution_count": 68,
   "metadata": {},
   "outputs": [
    {
     "name": "stdout",
     "output_type": "stream",
     "text": [
      "+----------------+\n",
      "|            page|\n",
      "+----------------+\n",
      "|Submit Downgrade|\n",
      "|            Home|\n",
      "|       Downgrade|\n",
      "|          Logout|\n",
      "|   Save Settings|\n",
      "|           About|\n",
      "|        Settings|\n",
      "|           Login|\n",
      "|        NextSong|\n",
      "|            Help|\n",
      "|         Upgrade|\n",
      "|           Error|\n",
      "|  Submit Upgrade|\n",
      "+----------------+\n",
      "\n"
     ]
    }
   ],
   "source": [
    "usr_log.select(['page']).dropDuplicates().show()"
   ]
  },
  {
   "cell_type": "code",
   "execution_count": 69,
   "metadata": {},
   "outputs": [
    {
     "name": "stdout",
     "output_type": "stream",
     "text": [
      "+------+------+------------------+--------------------+-------------+\n",
      "|userId|status|            artist|                song|           ts|\n",
      "+------+------+------------------+--------------------+-------------+\n",
      "|  1046|   200|     Showaddywaddy|Christmas Tears W...|1513720872284|\n",
      "|  1046|   200|     Darius Rucker|  Be Wary Of A Woman|1513721104284|\n",
      "|  1046|   200|      Public Enemy|   Public Enemy No.1|1513721310284|\n",
      "|  1046|   200|        Jag Panzer|Reign Of The Tyrants|1513721591284|\n",
      "|  1046|   200|           Boyzone|      Father And Son|1513721808284|\n",
      "|  1046|   200|  Hollywood Undead|               No. 5|1513721976284|\n",
      "|  1046|   200|   Jimmy Eat World|           Seventeen|1513722161284|\n",
      "|  1046|   200|              null|                null|1513837636284|\n",
      "|  1046|   200|             Wilco|          War on war|1513837660284|\n",
      "|  1046|   200|Fountains Of Wayne|   Killermont Street|1513837887284|\n",
      "|  1046|   200|        Miike Snow|        Black & Blue|1513838080284|\n",
      "|  1046|   307|              null|                null|1513838081284|\n",
      "|  1046|   200|              null|                null|1513838155284|\n",
      "|  1046|   200|   Yeah Yeah Yeahs|     Heads Will Roll|1513838300284|\n",
      "|  1046|   200|       Linkin Park|Bleed It Out [Liv...|1513838520284|\n",
      "|  1046|   200|          Coldplay|              Clocks|1513839014284|\n",
      "|  1046|   200|        Jill Scott|           Love Rain|1513839321284|\n",
      "|  1046|   200|          Glassjaw|Ry Ry's Song (Alb...|1513839573284|\n",
      "|  1046|   200|     Michael Cretu|   The Invisible Man|1513839785284|\n",
      "|  1046|   200|     Lonnie Gordon|Catch You Baby (S...|1513840086284|\n",
      "+------+------+------------------+--------------------+-------------+\n",
      "only showing top 20 rows\n",
      "\n"
     ]
    }
   ],
   "source": [
    "usr_log.select(['userId', 'status', 'artist', 'song', 'ts']).where(usr_log.userId=='1046').show()"
   ]
  },
  {
   "cell_type": "code",
   "execution_count": 70,
   "metadata": {},
   "outputs": [],
   "source": [
    "from pyspark.sql.functions import udf\n",
    "import datetime\n",
    "get_hour = udf(lambda x: datetime.datetime.fromtimestamp(x/1000).hour)"
   ]
  },
  {
   "cell_type": "code",
   "execution_count": 71,
   "metadata": {},
   "outputs": [],
   "source": [
    "usr_log = usr_log.withColumn('hour', get_hour(usr_log.ts))"
   ]
  },
  {
   "cell_type": "code",
   "execution_count": 72,
   "metadata": {},
   "outputs": [
    {
     "data": {
      "text/plain": [
       "Row(artist='Showaddywaddy', auth='Logged In', firstName='Kenneth', gender='M', itemInSession=112, lastName='Matthews', length=232.93342, level='paid', location='Charlotte-Concord-Gastonia, NC-SC', method='PUT', page='NextSong', registration=1509380319284, sessionId=5132, song='Christmas Tears Will Fall', status=200, ts=1513720872284, userAgent='\"Mozilla/5.0 (Windows NT 6.1) AppleWebKit/537.36 (KHTML, like Gecko) Chrome/36.0.1985.125 Safari/537.36\"', userId='1046', hour='23')"
      ]
     },
     "execution_count": 72,
     "metadata": {},
     "output_type": "execute_result"
    }
   ],
   "source": [
    "usr_log.head()"
   ]
  },
  {
   "cell_type": "code",
   "execution_count": 73,
   "metadata": {},
   "outputs": [],
   "source": [
    "songs_in_hour = usr_log.where(usr_log.page=='NextSong').groupBy(usr_log.hour).count().orderBy(usr_log.hour.cast('float'))"
   ]
  },
  {
   "cell_type": "code",
   "execution_count": 74,
   "metadata": {},
   "outputs": [],
   "source": [
    "usr_log_valid = usr_log.dropna(how='any', subset=['sessionId', 'userId']) "
   ]
  },
  {
   "cell_type": "code",
   "execution_count": 75,
   "metadata": {},
   "outputs": [
    {
     "data": {
      "text/plain": [
       "10000"
      ]
     },
     "execution_count": 75,
     "metadata": {},
     "output_type": "execute_result"
    }
   ],
   "source": [
    "usr_log_valid.count()"
   ]
  },
  {
   "cell_type": "code",
   "execution_count": 76,
   "metadata": {},
   "outputs": [
    {
     "data": {
      "text/plain": [
       "9664"
      ]
     },
     "execution_count": 76,
     "metadata": {},
     "output_type": "execute_result"
    }
   ],
   "source": [
    "usr_log_valid = usr_log_valid.where(usr_log_valid.userId != '')\n",
    "usr_log_valid.count()"
   ]
  },
  {
   "cell_type": "code",
   "execution_count": 77,
   "metadata": {},
   "outputs": [
    {
     "name": "stdout",
     "output_type": "stream",
     "text": [
      "+------+---------+---------+------+-------------+--------+------+-----+--------------------+------+----------------+-------------+---------+----+------+-------------+--------------------+------+----+\n",
      "|artist|     auth|firstName|gender|itemInSession|lastName|length|level|            location|method|            page| registration|sessionId|song|status|           ts|           userAgent|userId|hour|\n",
      "+------+---------+---------+------+-------------+--------+------+-----+--------------------+------+----------------+-------------+---------+----+------+-------------+--------------------+------+----+\n",
      "|  null|Logged In|    Kelly|     F|           24|  Newton|  null| paid|Houston-The Woodl...|   PUT|Submit Downgrade|1513283366284|     5931|null|   307|1513768454284|Mozilla/5.0 (Wind...|  1138|  12|\n",
      "+------+---------+---------+------+-------------+--------+------+-----+--------------------+------+----------------+-------------+---------+----+------+-------------+--------------------+------+----+\n",
      "\n"
     ]
    }
   ],
   "source": [
    "usr_log_valid.where(usr_log_valid.page == 'Submit Downgrade').show()"
   ]
  },
  {
   "cell_type": "code",
   "execution_count": 25,
   "metadata": {
    "collapsed": true,
    "jupyter": {
     "outputs_hidden": true
    }
   },
   "outputs": [
    {
     "data": {
      "text/plain": [
       "[Row(userId='1138', firstName='Kelly', page='Home', level='paid'),\n",
       " Row(userId='1138', firstName='Kelly', page='NextSong', level='paid'),\n",
       " Row(userId='1138', firstName='Kelly', page='NextSong', level='paid'),\n",
       " Row(userId='1138', firstName='Kelly', page='NextSong', level='paid'),\n",
       " Row(userId='1138', firstName='Kelly', page='NextSong', level='paid'),\n",
       " Row(userId='1138', firstName='Kelly', page='NextSong', level='paid'),\n",
       " Row(userId='1138', firstName='Kelly', page='NextSong', level='paid'),\n",
       " Row(userId='1138', firstName='Kelly', page='NextSong', level='paid'),\n",
       " Row(userId='1138', firstName='Kelly', page='NextSong', level='paid'),\n",
       " Row(userId='1138', firstName='Kelly', page='NextSong', level='paid'),\n",
       " Row(userId='1138', firstName='Kelly', page='NextSong', level='paid'),\n",
       " Row(userId='1138', firstName='Kelly', page='NextSong', level='paid'),\n",
       " Row(userId='1138', firstName='Kelly', page='NextSong', level='paid'),\n",
       " Row(userId='1138', firstName='Kelly', page='NextSong', level='paid'),\n",
       " Row(userId='1138', firstName='Kelly', page='NextSong', level='paid'),\n",
       " Row(userId='1138', firstName='Kelly', page='NextSong', level='paid'),\n",
       " Row(userId='1138', firstName='Kelly', page='NextSong', level='paid'),\n",
       " Row(userId='1138', firstName='Kelly', page='NextSong', level='paid'),\n",
       " Row(userId='1138', firstName='Kelly', page='NextSong', level='paid'),\n",
       " Row(userId='1138', firstName='Kelly', page='NextSong', level='paid'),\n",
       " Row(userId='1138', firstName='Kelly', page='NextSong', level='paid'),\n",
       " Row(userId='1138', firstName='Kelly', page='NextSong', level='paid'),\n",
       " Row(userId='1138', firstName='Kelly', page='NextSong', level='paid'),\n",
       " Row(userId='1138', firstName='Kelly', page='NextSong', level='paid'),\n",
       " Row(userId='1138', firstName='Kelly', page='NextSong', level='paid'),\n",
       " Row(userId='1138', firstName='Kelly', page='NextSong', level='paid'),\n",
       " Row(userId='1138', firstName='Kelly', page='NextSong', level='paid'),\n",
       " Row(userId='1138', firstName='Kelly', page='NextSong', level='paid'),\n",
       " Row(userId='1138', firstName='Kelly', page='NextSong', level='paid'),\n",
       " Row(userId='1138', firstName='Kelly', page='NextSong', level='paid'),\n",
       " Row(userId='1138', firstName='Kelly', page='NextSong', level='paid'),\n",
       " Row(userId='1138', firstName='Kelly', page='NextSong', level='paid'),\n",
       " Row(userId='1138', firstName='Kelly', page='NextSong', level='paid'),\n",
       " Row(userId='1138', firstName='Kelly', page='NextSong', level='paid'),\n",
       " Row(userId='1138', firstName='Kelly', page='NextSong', level='paid'),\n",
       " Row(userId='1138', firstName='Kelly', page='NextSong', level='paid'),\n",
       " Row(userId='1138', firstName='Kelly', page='NextSong', level='paid'),\n",
       " Row(userId='1138', firstName='Kelly', page='Help', level='paid'),\n",
       " Row(userId='1138', firstName='Kelly', page='NextSong', level='paid'),\n",
       " Row(userId='1138', firstName='Kelly', page='NextSong', level='paid'),\n",
       " Row(userId='1138', firstName='Kelly', page='NextSong', level='paid'),\n",
       " Row(userId='1138', firstName='Kelly', page='NextSong', level='paid'),\n",
       " Row(userId='1138', firstName='Kelly', page='NextSong', level='paid'),\n",
       " Row(userId='1138', firstName='Kelly', page='NextSong', level='paid'),\n",
       " Row(userId='1138', firstName='Kelly', page='NextSong', level='paid'),\n",
       " Row(userId='1138', firstName='Kelly', page='NextSong', level='paid'),\n",
       " Row(userId='1138', firstName='Kelly', page='NextSong', level='paid'),\n",
       " Row(userId='1138', firstName='Kelly', page='Home', level='paid'),\n",
       " Row(userId='1138', firstName='Kelly', page='NextSong', level='paid'),\n",
       " Row(userId='1138', firstName='Kelly', page='NextSong', level='paid'),\n",
       " Row(userId='1138', firstName='Kelly', page='NextSong', level='paid'),\n",
       " Row(userId='1138', firstName='Kelly', page='NextSong', level='paid'),\n",
       " Row(userId='1138', firstName='Kelly', page='NextSong', level='paid'),\n",
       " Row(userId='1138', firstName='Kelly', page='NextSong', level='paid'),\n",
       " Row(userId='1138', firstName='Kelly', page='NextSong', level='paid'),\n",
       " Row(userId='1138', firstName='Kelly', page='NextSong', level='paid'),\n",
       " Row(userId='1138', firstName='Kelly', page='NextSong', level='paid'),\n",
       " Row(userId='1138', firstName='Kelly', page='NextSong', level='paid'),\n",
       " Row(userId='1138', firstName='Kelly', page='NextSong', level='paid'),\n",
       " Row(userId='1138', firstName='Kelly', page='NextSong', level='paid'),\n",
       " Row(userId='1138', firstName='Kelly', page='NextSong', level='paid'),\n",
       " Row(userId='1138', firstName='Kelly', page='NextSong', level='paid'),\n",
       " Row(userId='1138', firstName='Kelly', page='Downgrade', level='paid'),\n",
       " Row(userId='1138', firstName='Kelly', page='Submit Downgrade', level='paid'),\n",
       " Row(userId='1138', firstName='Kelly', page='Home', level='free'),\n",
       " Row(userId='1138', firstName='Kelly', page='NextSong', level='free'),\n",
       " Row(userId='1138', firstName='Kelly', page='Home', level='free'),\n",
       " Row(userId='1138', firstName='Kelly', page='NextSong', level='free')]"
      ]
     },
     "execution_count": 25,
     "metadata": {},
     "output_type": "execute_result"
    }
   ],
   "source": [
    "usr_log.select(['userId', 'firstName', 'page', 'level']).where(usr_log.userId=='1138').collect()"
   ]
  },
  {
   "cell_type": "code",
   "execution_count": 78,
   "metadata": {},
   "outputs": [],
   "source": [
    "from pyspark.sql.types import *\n",
    "flag_downgrade_event = udf(lambda x: 1 if x == 'Submit Downgrade' else 0, IntegerType())\n",
    "usr_log_valid = usr_log_valid.withColumn('flag_event', flag_downgrade_event(usr_log_valid.page))"
   ]
  },
  {
   "cell_type": "code",
   "execution_count": 79,
   "metadata": {},
   "outputs": [
    {
     "name": "stdout",
     "output_type": "stream",
     "text": [
      "+--------------------+---------+---------+------+-------------+---------+---------+-----+--------------------+------+--------+-------------+---------+--------------------+------+-------------+--------------------+------+----+----------+\n",
      "|              artist|     auth|firstName|gender|itemInSession| lastName|   length|level|            location|method|    page| registration|sessionId|                song|status|           ts|           userAgent|userId|hour|flag_event|\n",
      "+--------------------+---------+---------+------+-------------+---------+---------+-----+--------------------+------+--------+-------------+---------+--------------------+------+-------------+--------------------+------+----+----------+\n",
      "|       Showaddywaddy|Logged In|  Kenneth|     M|          112| Matthews|232.93342| paid|Charlotte-Concord...|   PUT|NextSong|1509380319284|     5132|Christmas Tears W...|   200|1513720872284|\"Mozilla/5.0 (Win...|  1046|  23|         0|\n",
      "|          Lily Allen|Logged In|Elizabeth|     F|            7|    Chase|195.23873| free|Shreveport-Bossie...|   PUT|NextSong|1512718541284|     5027|       Cheryl Tweedy|   200|1513720878284|\"Mozilla/5.0 (Win...|  1000|  23|         0|\n",
      "|Cobra Starship Fe...|Logged In|     Vera|     F|            6|Blackwell|196.20526| paid|          Racine, WI|   PUT|NextSong|1499855749284|     5516|Good Girls Go Bad...|   200|1513720881284|\"Mozilla/5.0 (Mac...|  2219|  23|         0|\n",
      "|          Alex Smoke|Logged In|   Sophee|     F|            8|   Barker|405.99465| paid|San Luis Obispo-P...|   PUT|NextSong|1513009647284|     2372| Don't See The Point|   200|1513720905284|\"Mozilla/5.0 (Win...|  2373|  23|         0|\n",
      "|                null|Logged In|   Jordyn|     F|            0|    Jones|     null| free|        Syracuse, NY|   GET|    Home|1513648531284|     1746|                null|   200|1513720913284|\"Mozilla/5.0 (Mac...|  1747|  23|         0|\n",
      "|                null|Logged In|   Jordyn|     F|            1|    Jones|     null| free|        Syracuse, NY|   GET|Settings|1513648531284|     1746|                null|   200|1513720932284|\"Mozilla/5.0 (Mac...|  1747|  23|         0|\n",
      "|              Redman|Logged In|    Paige|     F|            0|   Hunter|154.53995| free|       Brownwood, TX|   PUT|NextSong|1498414068284|     4406|        Smoke Buddah|   200|1513720955284|\"Mozilla/5.0 (Mac...|  1162|  23|         0|\n",
      "|     Ulrich Schnauss|Logged In|  Gabriel|     M|            2|     Koch|402.93832| paid|     Panama City, FL|   PUT|NextSong|1505820418284|     1060|           On My Own|   200|1513720959284|Mozilla/5.0 (Wind...|  1061|  23|         0|\n",
      "|                null|Logged In|    Mason|     M|            2|   Thomas|     null| paid|Indianapolis-Carm...|   GET|    Home|1487015656284|     5661|                null|   200|1513720959284|Mozilla/5.0 (comp...|   748|  23|         0|\n",
      "|                null|Logged In|Alexander|     M|            0|    Short|     null| free|       Green Bay, WI|   GET|    Home|1513594398284|     3689|                null|   200|1513720980284|\"Mozilla/5.0 (Win...|   597|  23|         0|\n",
      "|               Jay-Z|Logged In|  Micheal|     M|           23|   Morgan|223.26812| paid|        Sterling, CO|   PUT|NextSong|1485051492284|     5175|Heart Of The City...|   200|1513720983284|\"Mozilla/5.0 (Win...|  1806|  23|         0|\n",
      "|         Evanescence|Logged In|    Mason|     M|            3|   Thomas|237.11302| paid|Indianapolis-Carm...|   PUT|NextSong|1487015656284|     5661|    Bring Me To Life|   200|1513720993284|Mozilla/5.0 (comp...|   748|  23|         0|\n",
      "|     Scissor Sisters|Logged In|   Justin|     M|           82|    Jones|218.01751| paid|          Dayton, TN|   PUT|NextSong|1504706730284|     1175|               Laura|   200|1513721031284|\"Mozilla/5.0 (Win...|  1176|  23|         0|\n",
      "|        3 Doors Down|Logged In|     Zoie|     F|           28|   Wright|237.13914| paid|Chicago-Napervill...|   PUT|NextSong|1512172030284|     2163|    Here Without You|   200|1513721045284|\"Mozilla/5.0 (Mac...|  2164|  23|         0|\n",
      "|       George Younce|Logged In|  Malachi|     M|            3|     Lane|191.68608| free|     Sioux Falls, SD|   PUT|NextSong|1510109243284|     5272|This Old House w/...|   200|1513721058284|Mozilla/5.0 (Wind...|  2146|  23|         0|\n",
      "|              Aly-Us|Logged In|     Vera|     F|            7|Blackwell|383.58159| paid|          Racine, WI|   PUT|NextSong|1499855749284|     5516|Follow Me (Club Mix)|   200|1513721077284|\"Mozilla/5.0 (Mac...|  2219|  23|         0|\n",
      "|                null|Logged In|   Justin|     M|           83|    Jones|     null| paid|          Dayton, TN|   GET|    Home|1504706730284|     1175|                null|   200|1513721088284|\"Mozilla/5.0 (Win...|  1176|  23|         0|\n",
      "|            BjÃÂ¶rk|Logged In|    Elena|     F|            0|   Newman|348.57751| free|Boston-Cambridge-...|   PUT|NextSong|1513494341284|     2903|                Undo|   200|1513721095284|Mozilla/5.0 (Wind...|  2904|  23|         0|\n",
      "|      David Bromberg|Logged In|Alexander|     M|            1|    Short|146.36363| free|       Green Bay, WI|   PUT|NextSong|1513594398284|     3689|Sheebeg And Sheemore|   200|1513721097284|\"Mozilla/5.0 (Win...|   597|  23|         0|\n",
      "|          Nickelback|Logged In|  Abigail|     F|            4| Davidson|238.18404| paid|Lansing-East Lans...|   PUT|NextSong|1513173389284|     4591|Far Away (Album V...|   200|1513721104284|\"Mozilla/5.0 (Mac...|   226|  23|         0|\n",
      "+--------------------+---------+---------+------+-------------+---------+---------+-----+--------------------+------+--------+-------------+---------+--------------------+------+-------------+--------------------+------+----+----------+\n",
      "only showing top 20 rows\n",
      "\n"
     ]
    }
   ],
   "source": [
    "usr_log_valid.show()"
   ]
  },
  {
   "cell_type": "code",
   "execution_count": 80,
   "metadata": {},
   "outputs": [],
   "source": [
    "from pyspark.sql import Window\n",
    "from pyspark.sql import SparkSession\n",
    "from pyspark.sql.functions import udf\n",
    "from pyspark.sql.types import StringType\n",
    "from pyspark.sql.types import IntegerType\n",
    "from pyspark.sql.functions import desc\n",
    "from pyspark.sql.functions import asc\n",
    "import pyspark.sql.functions as F\n",
    "from pyspark.sql.functions import sum as Fsum\n",
    "\n",
    "import datetime\n",
    "\n",
    "import numpy as np\n",
    "import pandas as pd\n",
    "%matplotlib inline\n",
    "import matplotlib.pyplot as plt"
   ]
  },
  {
   "cell_type": "code",
   "execution_count": 93,
   "metadata": {},
   "outputs": [],
   "source": [
    "windowval = Window.partitionBy(\"userId\").orderBy(desc(\"ts\")).rangeBetween(Window.unboundedPreceding, 0)"
   ]
  },
  {
   "cell_type": "code",
   "execution_count": 94,
   "metadata": {},
   "outputs": [],
   "source": [
    "usr_log_valid = usr_log_valid.withColumn(\"list_view\", F.collect_list(F.col(\"flag_event\")).over(windowval))\n",
    "usr_log_valid = usr_log_valid.withColumn(\"phase\", Fsum(\"flag_event\").over(windowval))"
   ]
  },
  {
   "cell_type": "code",
   "execution_count": 95,
   "metadata": {},
   "outputs": [
    {
     "name": "stdout",
     "output_type": "stream",
     "text": [
      "+----------------+-----+--------------------+-----+\n",
      "|            page|level|           list_view|phase|\n",
      "+----------------+-----+--------------------+-----+\n",
      "|        NextSong| free|                 [0]|    0|\n",
      "|            Home| free|              [0, 0]|    0|\n",
      "|        NextSong| free|           [0, 0, 0]|    0|\n",
      "|            Home| free|        [0, 0, 0, 0]|    0|\n",
      "|Submit Downgrade| paid|     [0, 0, 0, 0, 1]|    1|\n",
      "|       Downgrade| paid|  [0, 0, 0, 0, 1, 0]|    1|\n",
      "|        NextSong| paid|[0, 0, 0, 0, 1, 0...|    1|\n",
      "|        NextSong| paid|[0, 0, 0, 0, 1, 0...|    1|\n",
      "|        NextSong| paid|[0, 0, 0, 0, 1, 0...|    1|\n",
      "|        NextSong| paid|[0, 0, 0, 0, 1, 0...|    1|\n",
      "|        NextSong| paid|[0, 0, 0, 0, 1, 0...|    1|\n",
      "|        NextSong| paid|[0, 0, 0, 0, 1, 0...|    1|\n",
      "|        NextSong| paid|[0, 0, 0, 0, 1, 0...|    1|\n",
      "|        NextSong| paid|[0, 0, 0, 0, 1, 0...|    1|\n",
      "|        NextSong| paid|[0, 0, 0, 0, 1, 0...|    1|\n",
      "|        NextSong| paid|[0, 0, 0, 0, 1, 0...|    1|\n",
      "|        NextSong| paid|[0, 0, 0, 0, 1, 0...|    1|\n",
      "|        NextSong| paid|[0, 0, 0, 0, 1, 0...|    1|\n",
      "|        NextSong| paid|[0, 0, 0, 0, 1, 0...|    1|\n",
      "|        NextSong| paid|[0, 0, 0, 0, 1, 0...|    1|\n",
      "+----------------+-----+--------------------+-----+\n",
      "only showing top 20 rows\n",
      "\n"
     ]
    }
   ],
   "source": [
    "usr_log_valid.select(['page','level', 'list_view', 'phase']).where(usr_log_valid.userId == '1138').show()"
   ]
  },
  {
   "cell_type": "code",
   "execution_count": null,
   "metadata": {},
   "outputs": [],
   "source": []
  }
 ],
 "metadata": {
  "kernelspec": {
   "display_name": "Python 3",
   "language": "python",
   "name": "python3"
  },
  "language_info": {
   "codemirror_mode": {
    "name": "ipython",
    "version": 3
   },
   "file_extension": ".py",
   "mimetype": "text/x-python",
   "name": "python",
   "nbconvert_exporter": "python",
   "pygments_lexer": "ipython3",
   "version": "3.8.3"
  }
 },
 "nbformat": 4,
 "nbformat_minor": 4
}
