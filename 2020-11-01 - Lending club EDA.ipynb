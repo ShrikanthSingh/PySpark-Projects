{
 "cells": [
  {
   "cell_type": "markdown",
   "metadata": {
    "application/vnd.databricks.v1+cell": {
     "inputWidgets": {},
     "nuid": "609cb7ca-ef65-415c-8015-d3087f349888",
     "showTitle": false,
     "title": ""
    }
   },
   "source": [
    "## Exploratory Data Analysis of Lending Club Dataset\n",
    "** Note - All cells are collapsed to avoid longer output screen. The notebook is basically practised on Databricks community edition."
   ]
  },
  {
   "cell_type": "code",
   "execution_count": null,
   "metadata": {
    "application/vnd.databricks.v1+cell": {
     "inputWidgets": {},
     "nuid": "3bbe4230-e555-41ad-b406-c508cf3b192d",
     "showTitle": false,
     "title": ""
    }
   },
   "outputs": [],
   "source": [
    "from pyspark.sql.functions import *\n",
    "import matplotlib.pyplot as plt\n",
    "from pyspark.sql.types import *"
   ]
  },
  {
   "cell_type": "code",
   "execution_count": null,
   "metadata": {
    "application/vnd.databricks.v1+cell": {
     "inputWidgets": {},
     "nuid": "e0b20d97-9679-4d76-bc9a-bb589e685b67",
     "showTitle": false,
     "title": ""
    }
   },
   "outputs": [],
   "source": [
    "%sql\n",
    "select * from processes_loan_ver2 limit 10"
   ]
  },
  {
   "cell_type": "code",
   "execution_count": null,
   "metadata": {
    "application/vnd.databricks.v1+cell": {
     "inputWidgets": {},
     "nuid": "c5eb55e5-b5f0-4ebe-aa2c-0cfccf5af996",
     "showTitle": false,
     "title": ""
    }
   },
   "outputs": [],
   "source": [
    "loan_data = spark.table('processes_loan_ver2')\n",
    "display(loan_data)"
   ]
  },
  {
   "cell_type": "code",
   "execution_count": null,
   "metadata": {
    "application/vnd.databricks.v1+cell": {
     "inputWidgets": {},
     "nuid": "7db9a519-dca3-4ce5-adc8-ee5d44c6c0d4",
     "showTitle": false,
     "title": ""
    }
   },
   "outputs": [],
   "source": [
    "display(loan_data.describe())"
   ]
  },
  {
   "cell_type": "code",
   "execution_count": null,
   "metadata": {
    "application/vnd.databricks.v1+cell": {
     "inputWidgets": {},
     "nuid": "e4f3d623-9bdb-4cb3-a3c1-3f01994bc69a",
     "showTitle": false,
     "title": ""
    }
   },
   "outputs": [],
   "source": [
    "#Check which state has more customers.\n",
    "loan_data.groupBy('addr_state').count().orderBy(desc('count')).show(5)\n",
    "#California, Texas and Ney York the top 3 states."
   ]
  },
  {
   "cell_type": "code",
   "execution_count": null,
   "metadata": {
    "application/vnd.databricks.v1+cell": {
     "inputWidgets": {},
     "nuid": "75b75198-e32a-49fa-999d-5386eae16142",
     "showTitle": false,
     "title": ""
    }
   },
   "outputs": [],
   "source": [
    "# Checking which state has most number of 'bad_loans'\n",
    "display(loan_data.filter(loan_data.bad_loan=='Yes').groupBy('addr_state').count().orderBy(desc('count')))\n",
    "#Surprising - Florida has more bad loans though it is no on the top 3 list of consumers"
   ]
  },
  {
   "cell_type": "code",
   "execution_count": null,
   "metadata": {
    "application/vnd.databricks.v1+cell": {
     "inputWidgets": {},
     "nuid": "48e9ba56-e3f6-43e2-b13f-e32b6df887c0",
     "showTitle": false,
     "title": ""
    }
   },
   "outputs": [],
   "source": [
    "grade_data = loan_data.groupBy(\"grade\").agg(sum('loan_amnt')).orderBy(desc('sum(loan_amnt)'))\n",
    "display(grade_data)"
   ]
  },
  {
   "cell_type": "code",
   "execution_count": null,
   "metadata": {
    "application/vnd.databricks.v1+cell": {
     "inputWidgets": {},
     "nuid": "ef4dd1b6-7c66-43cb-9854-708ee21aed3e",
     "showTitle": false,
     "title": ""
    }
   },
   "outputs": [],
   "source": [
    "#Among each grade how much loan amount is accumulated in the bad_loan\n",
    "display(loan_data.groupBy('grade', 'bad_loan').agg(sum('loan_amnt')))\n",
    "#The graph shows that loans under G grade have high chances of defaulters because 13% of it fall under bad loan. This scenario improves from G through A."
   ]
  },
  {
   "cell_type": "code",
   "execution_count": null,
   "metadata": {
    "application/vnd.databricks.v1+cell": {
     "inputWidgets": {},
     "nuid": "95378403-024c-47c9-8909-0ae772a5a2f2",
     "showTitle": false,
     "title": ""
    }
   },
   "outputs": [],
   "source": [
    "# Create an exposure column to indicate weigh the revol_balance based on the bad loan. If the loan is bad loan then we multiply it with -10, where\n",
    "# - is to show that it is bad loan and 10 to weigh the intensity of it for revol_bal.\n",
    "exposure_data = loan_data.withColumn('exposure',when(loan_data.bad_loan=='No',col('revol_bal')).otherwise(-10*col('revol_bal')))\n",
    "display(exposure_data)"
   ]
  },
  {
   "cell_type": "code",
   "execution_count": null,
   "metadata": {
    "application/vnd.databricks.v1+cell": {
     "inputWidgets": {},
     "nuid": "3f922f18-9774-4599-822f-4b4cf6f48272",
     "showTitle": false,
     "title": ""
    }
   },
   "outputs": [],
   "source": [
    "display(exposure_data.groupBy('grade', 'bad_loan').agg(sum('exposure')))\n",
    "# Inference - Even though G grade loan have many defaulters it is regarded with low risk under exposure when the amount of revol_bal is taken in account.\n",
    "# Where as C category loans are under higher risk of loss because the revol_bal of the customers is high."
   ]
  },
  {
   "cell_type": "code",
   "execution_count": null,
   "metadata": {
    "application/vnd.databricks.v1+cell": {
     "inputWidgets": {},
     "nuid": "19f2fea8-b2a9-4d0c-a6ef-911c4381b072",
     "showTitle": false,
     "title": ""
    }
   },
   "outputs": [],
   "source": [
    "# Analysing the outliers from the loan amount data\n",
    "display(spark.sql('''\n",
    "          select loan_amnt from processes_loan_ver2\n",
    "          '''))"
   ]
  },
  {
   "cell_type": "code",
   "execution_count": null,
   "metadata": {
    "application/vnd.databricks.v1+cell": {
     "inputWidgets": {},
     "nuid": "6bd010f8-b6b6-4626-8e57-5b490d5a5d93",
     "showTitle": false,
     "title": ""
    }
   },
   "outputs": [],
   "source": [
    "#Checking the distribution of the loan amount\n",
    "display(spark.sql('''\n",
    "          select loan_amnt from processes_loan_ver2\n",
    "          '''))\n",
    "# Inference - Not exactly normal distribution as the data points lie around the normal line and not on the line."
   ]
  },
  {
   "cell_type": "code",
   "execution_count": null,
   "metadata": {
    "application/vnd.databricks.v1+cell": {
     "inputWidgets": {},
     "nuid": "22271481-50cb-4126-ad8d-0218e753e977",
     "showTitle": false,
     "title": ""
    }
   },
   "outputs": [],
   "source": [
    "strip_percent = udf(lambda x: x.strip('%'))\n",
    "loan_data = loan_data.withColumn('int_rate_clean', strip_percent(loan_data.int_rate))\n",
    "loan_data = loan_data.withColumn('int_rate_clean', col('int_rate_clean').cast('float'))\n",
    "loan_data.show(5)"
   ]
  },
  {
   "cell_type": "code",
   "execution_count": null,
   "metadata": {
    "application/vnd.databricks.v1+cell": {
     "inputWidgets": {},
     "nuid": "707356b2-6252-4bea-9da7-59c9d4637968",
     "showTitle": false,
     "title": ""
    }
   },
   "outputs": [],
   "source": [
    "loan_data.printSchema()"
   ]
  },
  {
   "cell_type": "code",
   "execution_count": null,
   "metadata": {
    "application/vnd.databricks.v1+cell": {
     "inputWidgets": {},
     "nuid": "30c0fcc7-c383-4c2c-a93a-55f922f12f30",
     "showTitle": false,
     "title": ""
    }
   },
   "outputs": [],
   "source": [
    "#Analyse the average interest rate based on the bad_loan\n",
    "display(loan_data.groupBy('bad_loan').agg(avg('int_rate_clean')))"
   ]
  },
  {
   "cell_type": "code",
   "execution_count": null,
   "metadata": {
    "application/vnd.databricks.v1+cell": {
     "inputWidgets": {},
     "nuid": "4ec82e40-38ab-479d-930e-442122bba4de",
     "showTitle": false,
     "title": ""
    }
   },
   "outputs": [],
   "source": [
    "display(loan_data.select(['home_ownership', 'bad_loan', 'loan_amnt']))\n",
    "#Distribution of the loan amount varies according to the type of home ownership. The risk of bad loan is minimum along in the category of RENT with around 11k loan amnt.\n",
    "#Lesser the monthly installment in rent home ownership less probable they are defaulter."
   ]
  },
  {
   "cell_type": "code",
   "execution_count": null,
   "metadata": {
    "application/vnd.databricks.v1+cell": {
     "inputWidgets": {},
     "nuid": "e9313139-2ee8-4438-97ba-167e9a89aa2d",
     "showTitle": false,
     "title": ""
    }
   },
   "outputs": [],
   "source": [
    "display(loan_data.groupBy('grade', 'purpose').count())\n",
    "#Majority of the reasons that customers approach lending club accross all the grades of loan is debt_consolidation and credit card."
   ]
  },
  {
   "cell_type": "code",
   "execution_count": null,
   "metadata": {
    "application/vnd.databricks.v1+cell": {
     "inputWidgets": {},
     "nuid": "f47a9187-b02d-4e9d-8aed-4e1ff72feec4",
     "showTitle": false,
     "title": ""
    }
   },
   "outputs": [],
   "source": [
    "display(loan_data.groupBy('grade', 'loan_status').agg(count('loan_status')))"
   ]
  },
  {
   "cell_type": "code",
   "execution_count": null,
   "metadata": {
    "application/vnd.databricks.v1+cell": {
     "inputWidgets": {},
     "nuid": "ab03c85b-8aff-440e-8447-dab52c147aec",
     "showTitle": false,
     "title": ""
    }
   },
   "outputs": [],
   "source": []
  }
 ],
 "metadata": {
  "application/vnd.databricks.v1+notebook": {
   "dashboards": [],
   "language": "python",
   "notebookName": "2020-11-01 - EDA",
   "notebookOrigID": 3670615569887407,
   "widgets": {}
  },
  "kernelspec": {
   "display_name": "Python 3",
   "language": "python",
   "name": "python3"
  },
  "language_info": {
   "codemirror_mode": {
    "name": "ipython",
    "version": 3
   },
   "file_extension": ".py",
   "mimetype": "text/x-python",
   "name": "python",
   "nbconvert_exporter": "python",
   "pygments_lexer": "ipython3",
   "version": "3.8.3"
  }
 },
 "nbformat": 4,
 "nbformat_minor": 4
}
